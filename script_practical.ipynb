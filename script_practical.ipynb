{
 "cells": [
  {
   "cell_type": "markdown",
   "metadata": {},
   "source": [
    "# Practium Technische Heelkunde"
   ]
  },
  {
   "cell_type": "markdown",
   "metadata": {},
   "source": [
    "Welkom bij het practicum van het vak KT2801 Technische Heelkunde. Tijdens dit practicum zullen jullie aan de hand van begeleidende teksten in deze Jupyter Notebook en de eerder door jullie uitgevoerde opdrachten een morfologisch model maken van het aangezicht. Er wordt gebruik gemaakt van een interactieve omgeving waarin snipets van Python code kunnen worden uitgevoerd. Je hebt hiervoor geen ervaring nodig met de programmeertaal. Probeer onderstaande code uit voeren door '▷' te drukken hierboven of 'shift + enter' in de cell. "
   ]
  },
  {
   "cell_type": "code",
   "execution_count": null,
   "metadata": {},
   "outputs": [],
   "source": [
    "a = 'Hello World!'\n",
    "print(a)"
   ]
  },
  {
   "cell_type": "markdown",
   "metadata": {},
   "source": [
    "Gefeliciteerd! Je hebt een variable gedefinieerd 'a' en de inhoud van deze variabele, de tekst 'Hello World!', succesol geprint. De functie 'print()' heeft een input nodig. In dit geval was dat 'a'. Tijdens het coderen zul je regelmatig functies tegen komen die een input behoeven. De input lever je door deze uit te typen tussen de haakjes (). "
   ]
  },
  {
   "cell_type": "markdown",
   "metadata": {},
   "source": [
    "### Voor we beginnen..."
   ]
  },
  {
   "cell_type": "markdown",
   "metadata": {},
   "source": [
    "Voer onderstaande code uit door wederom  '▷' te klikken hierboven of 'shift + enter' in de cell. Hiermee worden de benodigde functies in de rest van het practicum beschikbaar gemaakt."
   ]
  },
  {
   "cell_type": "markdown",
   "metadata": {},
   "source": [
    "Om het wat georganiseerd te houden klik je zodra  de cell klaar is op je rechter muisknop in de cell en dan op 'Clear Outputs'. "
   ]
  },
  {
   "cell_type": "code",
   "execution_count": null,
   "metadata": {},
   "outputs": [],
   "source": [
    "%%capture\n",
    "conda install mayavi\n",
    "conda install menpo3d\n",
    "import menpo\n",
    "import menpo3d\n",
    "import os\n",
    "from tqdm import tqdm\n",
    "#import matplotlib.pyplot as plt\n",
    "#import numpy as np\n",
    "%matplotlib inline"
   ]
  },
  {
   "cell_type": "markdown",
   "metadata": {},
   "source": [
    "## Aan de slag!"
   ]
  },
  {
   "cell_type": "markdown",
   "metadata": {},
   "source": [
    "Jullie gaan in dit practicum aan de slag met dezelfde 'meshes' waarmee jullie in de opdracht hebben gewerkt. De .obj bestanden die in de 'data' map staan (zie links) zijn het eindresultaat van het wrapping proces zoals doorlopen in Wrap3D. Open de map maar eens om te zien hoe de data georganiseerd is. In de 'data' map vind je de verschillende sets (1 t/m 5) en de gebruikte landmarks. De landmarks zullen later nog eens de revue passeren. \n",
    "\n",
    "We beginnen met het definiëren van de locatie waar de bestanden gevonden kunnen worden. Hier ga je zelf ook aan de slag met het coderen. In de onderstaande cell wordt de locatie van de bestanden gedefiniëerd als 'path_to_meshes'. Pas nu zelf de definitie aan naar de map waarin de meshes staan waar je eerder mee hebt gewerkt. Controleer of je dit goed hebt gedaan door 'path_to_meshes' te printen door deze als input uit typen in de print() functie. "
   ]
  },
  {
   "cell_type": "code",
   "execution_count": null,
   "metadata": {},
   "outputs": [],
   "source": [
    "path_to_meshes= \"data/set0/\"\n",
    "print()"
   ]
  },
  {
   "cell_type": "markdown",
   "metadata": {},
   "source": [
    "Nu je de locatie van de bestanden heb gedefinieerd kunnen we deze gebruiken om de bestanden op te halen. We doen dit met onderstaande code. Voeg zelf de locatie van je bestanden, dus path_to_meshes, toe als input voor de functie op de plek van de drie stipjes. De bestanden worden dan opgeslagen als 'meshes'."
   ]
  },
  {
   "cell_type": "code",
   "execution_count": null,
   "metadata": {},
   "outputs": [],
   "source": [
    "meshes = menpo3d.io.import_meshes(...+'*.obj')"
   ]
  },
  {
   "cell_type": "markdown",
   "metadata": {},
   "source": [
    "### Tussenstap..."
   ]
  },
  {
   "cell_type": "markdown",
   "metadata": {},
   "source": [
    "Goed bezig, de eerste stap in het bouwen van je morfologisch model is gezet! We nemen nu een tussentap om te controleren of alles goed gaat. Dit doen we door één van de bestanden de je hebt opgeslagen in 'meshes' te exporteren en te openen in Wrap3D. Dit is dus een van de gezichten uit je eigen set. \n",
    "\n",
    "Als het goed is bevat de variabele 'meshes' nu 5 bestanden. Controleer dit hieronder. Een van deze bestanden exporteren we naar de map output. Deze map bestaat nu nog niet dus we zullen deze ook eerst moeten maken. \n",
    "\n",
    "Hieronder vind je de benodigde code om dit alles te doen met instructies wat te doen achter de '#'. Lees deze dus goed.  "
   ]
  },
  {
   "cell_type": "code",
   "execution_count": null,
   "metadata": {},
   "outputs": [],
   "source": [
    "#deze functie maakt een nieuwe map, schrijf de naam van deze map uit op de plek van de drie stipjes.\n",
    "os.makedirs('...') \n",
    "\n",
    "#controleer of je variabele 'meshes' bestaat uit 5 bestanden, vervang de drie stipjes door meshes. \n",
    "print(len(...))\n",
    "\n",
    "#deze functie exporteert een van de meshes naar de map 'output', vervang de drie stipje door het getal 3.\n",
    "menpo3d.io.export_mesh(meshes[...], 'output/controle_003.obj') "
   ]
  },
  {
   "cell_type": "markdown",
   "metadata": {},
   "source": [
    "Je hebt nu het vierde gezicht uit je set geëxporteerd naar de map 'output'. Open de map maar eens in het scherm links om te zien of dit goed is gegaan. Download vervolgens deze mesh en controleer of deze overeenkomt met het vierde gezicht uit je eigen set door beide bestanden te openen in Wrap3D. "
   ]
  },
  {
   "cell_type": "markdown",
   "metadata": {},
   "source": [
    "### En weer door!"
   ]
  },
  {
   "cell_type": "markdown",
   "metadata": {},
   "source": [
    "Je gaat nu echt aan de slag met het maken van het model. Dit is vrij eenvoudig te doen door onderstaande code uit te voeren. Je model wordt vervolgens opgeslagen in de variabele 'PCA_model'. Dit is handig, want je kunt deze vervolgens gebruiken om allerlei gegevens over je model op te halen. Deze zul je nodig hebben voor het voltooien van de opdracht. Voer onderstaande code en wacht tot deze klaar is.  "
   ]
  },
  {
   "cell_type": "code",
   "execution_count": null,
   "metadata": {},
   "outputs": [],
   "source": [
    "PCA_model = tqdm(menpo.model.PCAModel(meshes))"
   ]
  },
  {
   "cell_type": "code",
   "execution_count": null,
   "metadata": {},
   "outputs": [],
   "source": []
  },
  {
   "cell_type": "code",
   "execution_count": null,
   "metadata": {},
   "outputs": [],
   "source": [
    "#generate mean mesh \n",
    "mean_mesh = PCA_model.mean()"
   ]
  },
  {
   "cell_type": "code",
   "execution_count": null,
   "metadata": {},
   "outputs": [],
   "source": [
    "#view mean mesh \n",
    "mean_mesh.view()"
   ]
  },
  {
   "cell_type": "code",
   "execution_count": null,
   "metadata": {},
   "outputs": [],
   "source": [
    "#export mean mesh\n",
    "menpo3d.io.export_mesh(mean_mesh, os.path.join(path_to_meshes, 'mesh_mean.obj')) #kan ook als .ply worden gexporteerd"
   ]
  }
 ],
 "metadata": {
  "kernelspec": {
   "display_name": "Python 3",
   "language": "python",
   "name": "python3"
  },
  "language_info": {
   "codemirror_mode": {
    "name": "ipython",
    "version": 3
   },
   "file_extension": ".py",
   "mimetype": "text/x-python",
   "name": "python",
   "nbconvert_exporter": "python",
   "pygments_lexer": "ipython3",
   "version": "3.7.4"
  }
 },
 "nbformat": 4,
 "nbformat_minor": 5
}
