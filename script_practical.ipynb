{
 "cells": [
   "cell_type": "code",
   "execution_count": null,
   "id": "ad64f478",
   "metadata": {},
   "outputs": [],
   "source": [
    "#install additional packages\n",
    "conda install mayavi\n",
    "conda install menpo3d"
   ]
  },  
  {
   "cell_type": "code",
   "execution_count": null,
   "id": "104348b7",
   "metadata": {},
   "outputs": [],
   "source": [
    "#import packages\n",
    "import menpo\n",
    "import matplotlib.pyplot as plt\n",
    "import numpy as np"
   ]
  },
  {
   "cell_type": "code",
   "execution_count": null,
   "id": "ad64f478",
   "metadata": {},
   "outputs": [],
   "source": [
    "#set viewer\n",
    "%matplotlib qt"
   ]
  },
  {
   "cell_type": "code",
   "execution_count": null,
   "id": "a8d906aa",
   "metadata": {},
   "outputs": [],
   "source": [
    "#define path to meshes\n",
    "path_to_meshes= \"\""
   ]
  },
  {
   "cell_type": "code",
   "execution_count": null,
   "id": "5de5d904",
   "metadata": {},
   "outputs": [],
   "source": [
    "#import meshes \n",
    "meshes = menpo3d.io.import_meshes(path_to_meshes+'*.obj') #.ply bestanden kunnen ook worden gelezen"
   ]
  },
  {
   "cell_type": "code",
   "execution_count": null,
   "id": "39175f4c",
   "metadata": {},
   "outputs": [],
   "source": [
    "#generate PCA model\n",
    "PCA_model = menpo.model.PCAModel(meshes) "
   ]
  },
  {
   "cell_type": "code",
   "execution_count": null,
   "id": "2e65ad8f",
   "metadata": {},
   "outputs": [],
   "source": [
    "#generate mean mesh \n",
    "mean_mesh = PCA_model.mean()"
   ]
  },
  {
   "cell_type": "code",
   "execution_count": null,
   "id": "99092c3a",
   "metadata": {},
   "outputs": [],
   "source": [
    "#view mean mesh \n",
    "mean_mesh.view()"
   ]
  },
  {
   "cell_type": "code",
   "execution_count": null,
   "id": "82dc6ab4",
   "metadata": {},
   "outputs": [],
   "source": [
    "#export mean mesh\n",
    "menpo3d.io.export_mesh(mean_mesh, os.path.join(path_to_meshes, 'mesh_mean.obj')) #kan ook als .ply worden gexporteerd"
   ]
  }
 ],
 "metadata": {
  "kernelspec": {
   "display_name": "Python 3",
   "language": "python",
   "name": "python3"
  },
  "language_info": {
   "codemirror_mode": {
    "name": "ipython",
    "version": 3
   },
   "file_extension": ".py",
   "mimetype": "text/x-python",
   "name": "python",
   "nbconvert_exporter": "python",
   "pygments_lexer": "ipython3",
   "version": "3.6.15"
  }
 },
 "nbformat": 4,
 "nbformat_minor": 5
}
